{
 "cells": [
  {
   "cell_type": "code",
   "execution_count": null,
   "id": "e310c1a4",
   "metadata": {},
   "outputs": [],
   "source": [
    "import streamlit as st\n",
    "st.title(\"First try\")\n",
    "option = st. selectbox\n",
    "    ('My favourite fruit:', ('Strawberry', 'Raspberry', 'Blueberry'))\n",
    "option = st.selectbox(\n",
    "\n",
    "st.write('You chose:', option)"
   ]
  }
 ],
 "metadata": {
  "kernelspec": {
   "display_name": "Python 3 (ipykernel)",
   "language": "python",
   "name": "python3"
  },
  "language_info": {
   "codemirror_mode": {
    "name": "ipython",
    "version": 3
   },
   "file_extension": ".py",
   "mimetype": "text/x-python",
   "name": "python",
   "nbconvert_exporter": "python",
   "pygments_lexer": "ipython3",
   "version": "3.9.13"
  }
 },
 "nbformat": 4,
 "nbformat_minor": 5
}
